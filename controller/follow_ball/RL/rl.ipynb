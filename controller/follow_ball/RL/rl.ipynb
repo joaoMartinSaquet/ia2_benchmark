{
 "cells": [
  {
   "cell_type": "markdown",
   "metadata": {},
   "source": [
    "Reinforcement Learning algorithm"
   ]
  },
  {
   "cell_type": "code",
   "execution_count": 5,
   "metadata": {},
   "outputs": [],
   "source": [
    "import pandas\n",
    "import os\n",
    "import sys\n",
    "# Add the parent directory (two levels up) to sys.path\n",
    "sys.path.append(os.path.abspath(os.path.join('..', '..')))\n",
    "import numpy as np\n",
    "import matplotlib.pyplot as plt\n",
    "from utils import *"
   ]
  },
  {
   "cell_type": "code",
   "execution_count": 4,
   "metadata": {},
   "outputs": [],
   "source": [
    "import gymnasium as gym\n",
    "\n",
    "\n",
    "class my_env(gym.Env):\n",
    "    def __init__(self):\n",
    "        \n",
    "        log_file_path = \"../environment/logs/dataset_test/normal_log_with_no_impairments_joao.log\"\n",
    "        self.index_t = 0\n",
    "\n",
    "        self.bx, self.by, self.px, self.py, self.mdx, self.mdy, self.score, self.time, self.dbx, self.dby, dataframe  = read_data(log_file_path)\n",
    "        self.state = []\n",
    "        self.action_space = gym.spaces.Box(low=-50, high=50, shape=(2,), dtype=np.float32)\n",
    "        self.observation_space = gym.spaces.Box(low=-50, high=50, shape=(2,), dtype=np.float32)\n",
    "\n",
    "    def step(self, action):\n",
    "        \n",
    "        self.state = []\n",
    "        self.index_t += 1\n",
    "\n",
    "        if self.index_t > len(self.bx):\n",
    "            terminated = True\n",
    "            reward = 0\n",
    "        else:\n",
    "            terminated = False\n",
    "            reward = 1/np.abs( (self.px[self.index_t] + action[0]) - self.bx[self.index_t + 1])\n",
    "\n",
    "        \n",
    "        return self.state, reward, terminated, False, {}\n",
    "\n",
    "\n",
    "        "
   ]
  },
  {
   "cell_type": "code",
   "execution_count": null,
   "metadata": {},
   "outputs": [],
   "source": []
  }
 ],
 "metadata": {
  "kernelspec": {
   "display_name": "tianshou_rl",
   "language": "python",
   "name": "python3"
  },
  "language_info": {
   "codemirror_mode": {
    "name": "ipython",
    "version": 3
   },
   "file_extension": ".py",
   "mimetype": "text/x-python",
   "name": "python",
   "nbconvert_exporter": "python",
   "pygments_lexer": "ipython3",
   "version": "3.11.5"
  }
 },
 "nbformat": 4,
 "nbformat_minor": 2
}
