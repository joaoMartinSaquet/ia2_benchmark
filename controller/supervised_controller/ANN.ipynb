{
 "cells": [
  {
   "cell_type": "markdown",
   "metadata": {},
   "source": [
    "# learning process for an ANN with logs"
   ]
  },
  {
   "cell_type": "code",
   "execution_count": null,
   "metadata": {},
   "outputs": [],
   "source": [
    "import torch\n",
    "import torch.nn as nn\n",
    "import torch.nn.functional as F\n",
    "import numpy as np\n",
    "\n"
   ]
  },
  {
   "cell_type": "markdown",
   "metadata": {},
   "source": [
    "# Data read "
   ]
  },
  {
   "cell_type": "code",
   "execution_count": 1,
   "metadata": {},
   "outputs": [],
   "source": [
    "import pandas\n",
    "# load the data from log file\n",
    "# enter the wanted file path here\n",
    "file_path = \"logs/linear_example.log\"\n",
    "# file_path = \"logs/random_example.log\"\n",
    "# file_path = \"logs/application24_11_05_10_26_17.log\"\n",
    "\n",
    "data_log = pandas.read_csv(\"../\" + file_path, sep=\";\")\n",
    "bx = data_log[\"Bx\"]\n",
    "by = data_log[\"By\"]\n",
    "px = data_log[\"Px\"]\n",
    "py = data_log[\"Py\"]\n",
    "mdx = data_log[\"Mdx\"]\n",
    "mdy = data_log[\"Mdy\"]\n",
    "score = data_log[\"Score\"]\n",
    "time = data_log[\"Time\"]\n",
    "index = [i for i in range(len(mdx))]\n",
    "\n",
    "dbx = [ bx[i+1] - bx[i] for i in range(len(bx)-1) ]"
   ]
  }
 ],
 "metadata": {
  "kernelspec": {
   "display_name": "tianshou_rl",
   "language": "python",
   "name": "python3"
  },
  "language_info": {
   "codemirror_mode": {
    "name": "ipython",
    "version": 3
   },
   "file_extension": ".py",
   "mimetype": "text/x-python",
   "name": "python",
   "nbconvert_exporter": "python",
   "pygments_lexer": "ipython3",
   "version": "3.11.5"
  }
 },
 "nbformat": 4,
 "nbformat_minor": 2
}
