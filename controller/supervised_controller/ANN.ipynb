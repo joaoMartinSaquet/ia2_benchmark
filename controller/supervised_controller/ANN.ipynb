{
 "cells": [
  {
   "cell_type": "markdown",
   "metadata": {},
   "source": [
    "# Supervised learning of an ANN"
   ]
  },
  {
   "cell_type": "code",
   "execution_count": 2,
   "metadata": {},
   "outputs": [],
   "source": [
    "import pandas\n",
    "import os\n",
    "import sys\n",
    "# Add the parent directory (two levels up) to sys.path\n",
    "sys.path.append(os.path.abspath(os.path.join('..', '..')))\n",
    "import numpy as np\n",
    "import matplotlib.pyplot as plt\n",
    "from utils import *"
   ]
  },
  {
   "cell_type": "code",
   "execution_count": 3,
   "metadata": {},
   "outputs": [
    {
     "name": "stdout",
     "output_type": "stream",
     "text": [
      "yshape :  torch.Size([1, 3749])\n",
      "xshape :  torch.Size([3749, 10])\n"
     ]
    },
    {
     "name": "stderr",
     "output_type": "stream",
     "text": [
      "/tmp/ipykernel_7205/3973955626.py:28: UserWarning: Creating a tensor from a list of numpy.ndarrays is extremely slow. Please consider converting the list to a single numpy.ndarray with numpy.array() before converting to a tensor. (Triggered internally at ../torch/csrc/utils/tensor_new.cpp:278.)\n",
      "  y = torch.tensor([y]).to(torch.float32)\n"
     ]
    }
   ],
   "source": [
    "import torch\n",
    "STACK = True\n",
    "\n",
    "log_file_path = \"../environment/logs/random_example.log\"\n",
    "\n",
    "bx, by, px, py, mdx, mdy, score, time, dbx, dby = read_data(log_file_path)\n",
    "\n",
    "# data organization\n",
    "y = np.array(dbx)\n",
    "mdx = np.array(mdx)\n",
    "if STACK:\n",
    "    Nstack = 10\n",
    "    stacks = []\n",
    "    for j in range(Nstack):\n",
    "        stacks += [np.hstack( (mdx[:j],mdx[j:]) )]     \n",
    "\n",
    "    # [t0 t-1 t-2 t-3]\n",
    "\n",
    "    x = np.array(stacks)[:, 1:].T\n",
    "\n",
    "else :\n",
    "    x = mdx[1:]  # mdx[:] mdx[]\n",
    "\n",
    "    # print(f\"len stacks i  :  {i} :\", len(stacks[i]))\n",
    "\n",
    "# x = np.array(mdx[1:]) # mdx[:] mdx[]\n",
    "# print(x)\n",
    "y = torch.tensor([y]).to(torch.float32)\n",
    "x = torch.tensor(x).to(torch.float32)\n",
    "\n",
    "print(\"yshape : \", y.shape)\n",
    "print(\"xshape : \", x.shape)"
   ]
  },
  {
   "cell_type": "code",
   "execution_count": 4,
   "metadata": {},
   "outputs": [
    {
     "name": "stderr",
     "output_type": "stream",
     "text": [
      "/tmp/ipykernel_7205/2221176834.py:21: UserWarning: To copy construct from a tensor, it is recommended to use sourceTensor.clone().detach() or sourceTensor.clone().detach().requires_grad_(True), rather than torch.tensor(sourceTensor).\n",
      "  ann_controller(torch.tensor(torch.ones(Nstack)).to(torch.float32))\n"
     ]
    }
   ],
   "source": [
    "import torch.nn as nn\n",
    "\n",
    "class ANN(nn.Module):\n",
    "\n",
    "    def __init__(self, neurons = [4, 32, 32, 1]):\n",
    "        super(ANN, self).__init__()\n",
    "\n",
    "        self.layer = nn.ModuleList([nn.Linear(neurons[i-1], neurons[i]) for i in range(1, len(neurons))])\n",
    "\n",
    "    def forward(self, x):\n",
    "\n",
    "        for i in range(len(self.layer)):\n",
    "            x = self.layer[i](x)\n",
    "            if i != len(self.layer) - 1:\n",
    "                x = nn.Tanh()(x)\n",
    "\n",
    "        return x\n",
    "    \n",
    "if Nstack:\n",
    "    ann_controller = ANN(neurons = [Nstack, 32, 32, 1])\n",
    "    ann_controller(torch.tensor(torch.ones(Nstack)).to(torch.float32))\n",
    "else:\n",
    "    and_controller = ANN(neurons = [1, 16, 16, 1])\n",
    "    ann_controller(torch.tensor(torch.ones(Nstack)).to(torch.float32))\n"
   ]
  },
  {
   "cell_type": "code",
   "execution_count": 5,
   "metadata": {},
   "outputs": [],
   "source": [
    "# data loader\n",
    "\n",
    "from torch.utils.data import Dataset, DataLoader\n",
    "from torch.utils.data import random_split\n",
    "\n",
    "class dataset1D(Dataset):\n",
    "    def __init__(self, x, y):\n",
    "        self.x = x\n",
    "        self.y = y\n",
    "\n",
    "    def __len__(self):\n",
    "        return len(self.x)\n",
    "\n",
    "    def __getitem__(self, index):\n",
    "        return self.x[index], self.y[index]\n",
    "    \n",
    "\n",
    "dataset = dataset1D(x, y.T)\n",
    "dataloader = DataLoader(dataset, batch_size=10, shuffle=True)\n",
    "\n",
    "train, val = random_split(dataset, [0.8, 0.2])\n",
    "\n",
    "trainloader = DataLoader(train, batch_size=10, shuffle=True)\n",
    "valloader = DataLoader(val, batch_size=10, shuffle=True)\n"
   ]
  },
  {
   "cell_type": "code",
   "execution_count": 6,
   "metadata": {},
   "outputs": [
    {
     "name": "stdout",
     "output_type": "stream",
     "text": [
      "epochs : 0 loss : 4.672788748773045\n",
      "epochs : 1 loss : 4.553577684638492\n",
      "epochs : 2 loss : 4.522359520595608\n",
      "epochs : 3 loss : 4.556769983425587\n",
      "epochs : 4 loss : 4.527245505498006\n",
      "epochs : 5 loss : 4.525240849292398\n",
      "epochs : 6 loss : 4.524563704545681\n",
      "epochs : 7 loss : 4.543699150898783\n",
      "epochs : 8 loss : 4.537510283415932\n",
      "epochs : 9 loss : 4.520878190479948\n",
      "epochs : 10 loss : 4.525466301269755\n",
      "epochs : 11 loss : 4.519386911272604\n",
      "epochs : 12 loss : 4.541196825811297\n",
      "epochs : 13 loss : 4.520365834884021\n",
      "epochs : 14 loss : 4.51798673058832\n",
      "epochs : 15 loss : 4.5192346715658\n",
      "epochs : 16 loss : 4.515649779584495\n",
      "epochs : 17 loss : 4.501321327925526\n",
      "epochs : 18 loss : 4.53070108148964\n",
      "epochs : 19 loss : 4.525901013094446\n",
      "epochs : 20 loss : 4.518841354543947\n",
      "epochs : 21 loss : 4.520022165017782\n",
      "epochs : 22 loss : 4.522976189752088\n",
      "epochs : 23 loss : 4.523984983114893\n",
      "epochs : 24 loss : 4.514060759026071\n",
      "epochs : 25 loss : 4.516125177160952\n",
      "epochs : 26 loss : 4.527098491837747\n",
      "epochs : 27 loss : 4.522490022174491\n",
      "epochs : 28 loss : 4.523245520316637\n",
      "epochs : 29 loss : 4.528394665407098\n",
      "epochs : 30 loss : 4.523615765631399\n",
      "epochs : 31 loss : 4.516094856437632\n",
      "epochs : 32 loss : 4.506143947907515\n",
      "epochs : 33 loss : 4.513382963960785\n",
      "epochs : 34 loss : 4.517921663745988\n",
      "epochs : 35 loss : 4.513049603903972\n",
      "epochs : 36 loss : 4.511414071987305\n",
      "epochs : 37 loss : 4.5154340532312425\n",
      "epochs : 38 loss : 4.514636689902947\n",
      "epochs : 39 loss : 4.5244000127482975\n",
      "epochs : 40 loss : 4.5155293345451355\n",
      "epochs : 41 loss : 4.5352518694057915\n",
      "epochs : 42 loss : 4.515266691163232\n",
      "epochs : 43 loss : 4.520263290923575\n",
      "epochs : 44 loss : 4.504060776736027\n",
      "epochs : 45 loss : 4.518873919412045\n",
      "epochs : 46 loss : 4.513124633194212\n",
      "epochs : 47 loss : 4.528828945446971\n",
      "epochs : 48 loss : 4.526390724556901\n",
      "epochs : 49 loss : 4.517344913554431\n",
      "epochs : 50 loss : 4.517025541800719\n",
      "epochs : 51 loss : 4.517035873862214\n",
      "epochs : 52 loss : 4.527309792097595\n",
      "epochs : 53 loss : 4.5141349744338255\n",
      "epochs : 54 loss : 4.501264870864492\n",
      "epochs : 55 loss : 4.529890784352121\n",
      "epochs : 56 loss : 4.5295134543575175\n",
      "epochs : 57 loss : 4.509313068062964\n",
      "epochs : 58 loss : 4.5238142546802065\n",
      "epochs : 59 loss : 4.521982669630976\n",
      "epochs : 60 loss : 4.530178395202726\n",
      "epochs : 61 loss : 4.529132566224771\n",
      "epochs : 62 loss : 4.516732376953431\n",
      "epochs : 63 loss : 4.5262549639146865\n",
      "epochs : 64 loss : 4.515496286660134\n",
      "epochs : 65 loss : 4.5080300132965165\n",
      "epochs : 66 loss : 4.525110494532314\n",
      "epochs : 67 loss : 4.507509719368606\n",
      "epochs : 68 loss : 4.502813842982353\n",
      "epochs : 69 loss : 4.510139159334942\n",
      "epochs : 70 loss : 4.509815956587377\n",
      "epochs : 71 loss : 4.505805411790326\n",
      "epochs : 72 loss : 4.512457860951439\n",
      "epochs : 73 loss : 4.510131232814246\n",
      "epochs : 74 loss : 4.504451735262887\n",
      "epochs : 75 loss : 4.518020208065327\n",
      "epochs : 76 loss : 4.518004281813883\n",
      "epochs : 77 loss : 4.512350443713243\n",
      "epochs : 78 loss : 4.514313785527462\n",
      "epochs : 79 loss : 4.531558187011891\n",
      "epochs : 80 loss : 4.504903625485092\n",
      "epochs : 81 loss : 4.514585817238958\n",
      "epochs : 82 loss : 4.509544108723318\n",
      "epochs : 83 loss : 4.522017152612425\n",
      "epochs : 84 loss : 4.506389723037896\n",
      "epochs : 85 loss : 4.499821057387419\n",
      "epochs : 86 loss : 4.5302725247914175\n",
      "epochs : 87 loss : 4.512339950205889\n",
      "epochs : 88 loss : 4.509454732555211\n",
      "epochs : 89 loss : 4.5092912063152095\n",
      "epochs : 90 loss : 4.511324689539778\n",
      "epochs : 91 loss : 4.507697137901217\n",
      "epochs : 92 loss : 4.502859173710131\n",
      "epochs : 93 loss : 4.507090463985169\n",
      "epochs : 94 loss : 4.504855086173501\n",
      "epochs : 95 loss : 4.51547455648116\n",
      "epochs : 96 loss : 4.5020727402589795\n",
      "epochs : 97 loss : 4.529341203911248\n",
      "epochs : 98 loss : 4.507391368864372\n",
      "epochs : 99 loss : 4.520287875347711\n"
     ]
    }
   ],
   "source": [
    "# training\n",
    "import torch\n",
    "\n",
    "\n",
    "lr = 1e-3\n",
    "epochs = 100\n",
    "opt = torch.optim.Adam(ann_controller.parameters(), lr=lr)\n",
    "\n",
    "\n",
    "loss_val = []\n",
    "\n",
    "\n",
    "for epoch in range(epochs):\n",
    "\n",
    "    running_loss = 0.\n",
    "    last_loss = 0.\n",
    "\n",
    "    # train one epochs\n",
    "    for i, data in enumerate(trainloader):\n",
    "        x, y = data\n",
    "        vloss = 0\n",
    "        # free gradient before each bacth\n",
    "        # opt.zero_grad()\n",
    "\n",
    "        y_pred = ann_controller(x)\n",
    "        loss = nn.MSELoss()(y_pred, y)\n",
    "        loss.backward()\n",
    "        opt.step()\n",
    "        opt.zero_grad()\n",
    "\n",
    "                # Gather data and report\n",
    "        running_loss += loss.item()\n",
    "    \n",
    "    print(\"epochs : {} loss : {}\".format(epoch, running_loss/i))\n",
    "    loss_val.append(running_loss/i)\n"
   ]
  },
  {
   "cell_type": "code",
   "execution_count": null,
   "metadata": {},
   "outputs": [
    {
     "name": "stdout",
     "output_type": "stream",
     "text": [
      "xshape :  torch.Size([10, 3749])\n",
      "ypred shape :  torch.Size([3749, 1])\n",
      "ypred :  tensor([-0.1796, -0.1796, -0.1796,  ..., -0.1796, -0.1796, -0.1796],\n",
      "       grad_fn=<SelectBackward0>)\n"
     ]
    },
    {
     "data": {
      "image/png": "[encoded data removed]",
      "text/plain": [
       "<Figure size 640x480 with 2 Axes>"
      ]
     },
     "metadata": {},
     "output_type": "display_data"
    }
   ],
   "source": [
    "# data organization\n",
    "y = np.array(dbx)\n",
    "if STACK:\n",
    "    stacks = []\n",
    "    for j in range(Nstack):\n",
    "        stacks += [np.hstack( (mdx[:j],mdx[j:]) )]     \n",
    "\n",
    "    # [t0 t-1 t-2 t-3]\n",
    "\n",
    "    x = np.array(stacks)[:, 1:].T\n",
    "\n",
    "else :\n",
    "    x = mdx[1:]  # mdx[:] mdx[]\n",
    "# print(x)\n",
    "y = torch.tensor([y]).to(torch.float32)\n",
    "x = torch.tensor(x).to(torch.float32)\n",
    "\n",
    "# plt.plot(loss_val)\n",
    "\n",
    "ypred = ann_controller(x)\n",
    "fig, axs = plt.subplots(2,1)\n",
    "axs[0].plot(time[1:], ypred[:,0].detach().numpy(), 'b', label='prediction')\n",
    "axs[0].plot(time[1:], y.T[:,0].detach().numpy(), 'r', label='target')\n",
    "# plt.plot(time[1:], mdx[1:], 'g.', label='input')\n",
    "axs[1].plot(time[1:],  y.T[:,0].detach().numpy() - ypred[:,0].detach().numpy(), 'g', label='diff pred true')\n",
    "axs[1].plot(time[1:], mdx[1:]- y.T[:,0].detach().numpy(), 'r', label='diff true in')\n",
    "\n",
    "plt.legend()\n",
    "\n",
    "\n",
    "print(\"xshape : \", x.T.shape)\n",
    "print(\"ypred shape : \", ypred.shape)\n",
    "print(\"ypred : \", ypred[:,0])"
   ]
  },
  {
   "cell_type": "code",
   "execution_count": 8,
   "metadata": {},
   "outputs": [],
   "source": [
    "Nstack = 10"
   ]
  }
 ],
 "metadata": {
  "kernelspec": {
   "display_name": "tianshou_rl",
   "language": "python",
   "name": "python3"
  },
  "language_info": {
   "codemirror_mode": {
    "name": "ipython",
    "version": 3
   },
   "file_extension": ".py",
   "mimetype": "text/x-python",
   "name": "python",
   "nbconvert_exporter": "python",
   "pygments_lexer": "ipython3",
   "version": "3.11.5"
  }
 },
 "nbformat": 4,
 "nbformat_minor": 2
}
